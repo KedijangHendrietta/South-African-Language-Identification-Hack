{
 "cells": [
  {
   "cell_type": "markdown",
   "id": "4142a997",
   "metadata": {},
   "source": [
    "# South-African-Language-Identification-Hack"
   ]
  },
  {
   "cell_type": "markdown",
   "id": "c6eb4109",
   "metadata": {},
   "source": [
    "## Honour Code\n",
    "\n",
    "I, KEDIJANG SETSOME, confirm - by submitting this document - that the solutions in this notebook are a result of our own work and that we abide by the EDSA honour code.\n",
    "Non-compliance with the honour code constitutes a material breach of contract."
   ]
  },
  {
   "cell_type": "markdown",
   "id": "198cfda4",
   "metadata": {},
   "source": [
    "<a id=\"cont\"></a>\n",
    "\n",
    "## Table of Contents\n",
    "<a href=#one>1. Introduction </a>\n",
    "\n",
    "<a href=#two>2. Importing Packages</a>\n",
    "\n",
    "<a href=#three>3. Loading Data</a>\n",
    "\n",
    "<a href=#four>4. Exploratory Data Analysis (EDA)</a>\n",
    "\n",
    "- <a href=#four.1>4.1 Target Variable Analysis</a>\n",
    "\n",
    "- <a href=#four.2>4.2 Tweets Analysis</a>\n",
    "\n",
    "<a href=#five>5. Feature Engineering</a>\n",
    "\n",
    "- <a href=#five.1> Text Cleaning</a>\n",
    "\n",
    "- <a href=#five.2> Stopwords Removal</a>\n",
    "\n",
    "- <a href=#five.3> Text Normalization</a>\n",
    "\n",
    "- <a href=#five.4> Clean Data Analysis</a>\n",
    "\n",
    "<a href=#six>6. CLeaning Imbalanced Data</a>\n",
    "\n",
    "- <a href=#six.2>6.1 Sorting Sentiment</a>\n",
    "\n",
    "<a href=#seven>7. Data Modeling</a>\n",
    "\n",
    "- <a href=#seven.1>7.1 Training Models</a>\n",
    "\n",
    "<a href=#eight>8. Cleaning Test Data</a>\n",
    "\n",
    "<a href=#nine>9. Submission</a>\n",
    "\n",
    "- <a href=#nine.2>9.1 Model Submission</a>\n",
    "\n",
    "<a href=#nine>9. Conclusion</a>"
   ]
  },
  {
   "cell_type": "markdown",
   "id": "a9b56e7f",
   "metadata": {},
   "source": [
    " <a id=\"one\"></a>\n",
    "## 1. Introduction\n",
    "<a href=#cont>Back to Table of Contents</a>"
   ]
  },
  {
   "cell_type": "markdown",
   "id": "c64aa4e3",
   "metadata": {},
   "source": [
    "### Overview\n",
    "\n",
    "South Africa is a multicultural society that is characterised by its rich linguistic diversity. Language is an indispensable tool that can be used to deepen democracy and also contribute to the social, cultural, intellectual, economic and political life of the South African society.\n",
    "\n",
    "The country is multilingual with 11 official languages, each of which is guaranteed equal status. Most South Africans are multilingual and able to speak at least two or more of the official languages.\n",
    "\n",
    "With such a multilingual population, it is only obvious that our systems and devices also communicate in multi-languages.\n",
    "\n",
    "In this challenge, I will take text which is in any of South Africa's 11 Official languages and identify which language the text is in. This is an example of NLP's Language Identification, the task of determining the natural language that a piece of text is written in."
   ]
  },
  {
   "cell_type": "markdown",
   "id": "5f71d493",
   "metadata": {},
   "source": [
    " <a id=\"one\"></a>\n",
    "## 2. Importing Packages\n",
    "<a href=#cont>Back to Table of Contents</a>"
   ]
  },
  {
   "cell_type": "code",
   "execution_count": 1,
   "id": "7d3302fa",
   "metadata": {},
   "outputs": [],
   "source": [
    "# Libraries for data loading, data manipulation and data visulisation\n",
    "import pandas as pd\n",
    "import numpy as np\n",
    "import matplotlib.pyplot as plt\n",
    "import seaborn as sns\n",
    "%matplotlib inline\n",
    "\n",
    "# Libraries For Data Preprocessing:\n",
    "import re\n",
    "import string\n",
    "from nltk.corpus import stopwords \n",
    "from nltk.tokenize import TreebankWordTokenizer\n",
    "from nltk import WordNetLemmatizer\n",
    "\n",
    "# Libraries For Feature Extraction, Model Building and Evaluation:\n",
    "from sklearn.feature_extraction.text import TfidfVectorizer\n",
    "from sklearn.model_selection import train_test_split\n",
    "\n",
    "from sklearn.naive_bayes import ComplementNB\n",
    "from sklearn.metrics import classification_report\n",
    "\n",
    "# Library For Saving and Retrieving the Model File:\n",
    "import pickle\n",
    "\n",
    "# Library For handling warnings:\n",
    "import warnings\n",
    "\n",
    "warnings.filterwarnings('ignore')\n",
    "\n",
    "# Setting global constants to ensure notebook results are reproducible\n",
    "PARAMETER_CONSTANT = 45 # random_state parameter for the train_test_split function"
   ]
  },
  {
   "cell_type": "markdown",
   "id": "0318a6ee",
   "metadata": {},
   "source": [
    "<a id=\"two\"></a>\n",
    "## 3. Loading the Data\n",
    "<a class=\"anchor\" id=\"1.1\"></a>\n",
    "<a href=#cont>Back to Table of Contents</a>"
   ]
  },
  {
   "cell_type": "code",
   "execution_count": 2,
   "id": "d0e7f1cf",
   "metadata": {},
   "outputs": [],
   "source": [
    "# Loading in the Data\n",
    "df_train =  pd.read_csv('train_set.csv')\n",
    "df_test = pd.read_csv('test_set.csv')"
   ]
  },
  {
   "cell_type": "code",
   "execution_count": 3,
   "id": "9c166504",
   "metadata": {},
   "outputs": [
    {
     "data": {
      "text/html": [
       "<div>\n",
       "<style scoped>\n",
       "    .dataframe tbody tr th:only-of-type {\n",
       "        vertical-align: middle;\n",
       "    }\n",
       "\n",
       "    .dataframe tbody tr th {\n",
       "        vertical-align: top;\n",
       "    }\n",
       "\n",
       "    .dataframe thead th {\n",
       "        text-align: right;\n",
       "    }\n",
       "</style>\n",
       "<table border=\"1\" class=\"dataframe\">\n",
       "  <thead>\n",
       "    <tr style=\"text-align: right;\">\n",
       "      <th></th>\n",
       "      <th>lang_id</th>\n",
       "      <th>text</th>\n",
       "    </tr>\n",
       "  </thead>\n",
       "  <tbody>\n",
       "    <tr>\n",
       "      <th>0</th>\n",
       "      <td>xho</td>\n",
       "      <td>umgaqo-siseko wenza amalungiselelo kumaziko ax...</td>\n",
       "    </tr>\n",
       "    <tr>\n",
       "      <th>1</th>\n",
       "      <td>xho</td>\n",
       "      <td>i-dha iya kuba nobulumko bokubeka umsebenzi na...</td>\n",
       "    </tr>\n",
       "    <tr>\n",
       "      <th>2</th>\n",
       "      <td>eng</td>\n",
       "      <td>the province of kwazulu-natal department of tr...</td>\n",
       "    </tr>\n",
       "    <tr>\n",
       "      <th>3</th>\n",
       "      <td>nso</td>\n",
       "      <td>o netefatša gore o ba file dilo ka moka tše le...</td>\n",
       "    </tr>\n",
       "    <tr>\n",
       "      <th>4</th>\n",
       "      <td>ven</td>\n",
       "      <td>khomishini ya ndinganyiso ya mbeu yo ewa maana...</td>\n",
       "    </tr>\n",
       "  </tbody>\n",
       "</table>\n",
       "</div>"
      ],
      "text/plain": [
       "  lang_id                                               text\n",
       "0     xho  umgaqo-siseko wenza amalungiselelo kumaziko ax...\n",
       "1     xho  i-dha iya kuba nobulumko bokubeka umsebenzi na...\n",
       "2     eng  the province of kwazulu-natal department of tr...\n",
       "3     nso  o netefatša gore o ba file dilo ka moka tše le...\n",
       "4     ven  khomishini ya ndinganyiso ya mbeu yo ewa maana..."
      ]
     },
     "execution_count": 3,
     "metadata": {},
     "output_type": "execute_result"
    }
   ],
   "source": [
    "df_train.head()"
   ]
  },
  {
   "cell_type": "code",
   "execution_count": 4,
   "id": "5ec7504a",
   "metadata": {},
   "outputs": [
    {
     "data": {
      "text/html": [
       "<div>\n",
       "<style scoped>\n",
       "    .dataframe tbody tr th:only-of-type {\n",
       "        vertical-align: middle;\n",
       "    }\n",
       "\n",
       "    .dataframe tbody tr th {\n",
       "        vertical-align: top;\n",
       "    }\n",
       "\n",
       "    .dataframe thead th {\n",
       "        text-align: right;\n",
       "    }\n",
       "</style>\n",
       "<table border=\"1\" class=\"dataframe\">\n",
       "  <thead>\n",
       "    <tr style=\"text-align: right;\">\n",
       "      <th></th>\n",
       "      <th>index</th>\n",
       "      <th>text</th>\n",
       "    </tr>\n",
       "  </thead>\n",
       "  <tbody>\n",
       "    <tr>\n",
       "      <th>0</th>\n",
       "      <td>1</td>\n",
       "      <td>Mmasepala, fa maemo a a kgethegileng a letlele...</td>\n",
       "    </tr>\n",
       "    <tr>\n",
       "      <th>1</th>\n",
       "      <td>2</td>\n",
       "      <td>Uzakwaziswa ngokufaneleko nakungafuneka eminye...</td>\n",
       "    </tr>\n",
       "    <tr>\n",
       "      <th>2</th>\n",
       "      <td>3</td>\n",
       "      <td>Tshivhumbeo tshi fana na ngano dza vhathu.</td>\n",
       "    </tr>\n",
       "    <tr>\n",
       "      <th>3</th>\n",
       "      <td>4</td>\n",
       "      <td>Kube inja nelikati betingevakala kutsi titsini...</td>\n",
       "    </tr>\n",
       "    <tr>\n",
       "      <th>4</th>\n",
       "      <td>5</td>\n",
       "      <td>Winste op buitelandse valuta.</td>\n",
       "    </tr>\n",
       "  </tbody>\n",
       "</table>\n",
       "</div>"
      ],
      "text/plain": [
       "   index                                               text\n",
       "0      1  Mmasepala, fa maemo a a kgethegileng a letlele...\n",
       "1      2  Uzakwaziswa ngokufaneleko nakungafuneka eminye...\n",
       "2      3         Tshivhumbeo tshi fana na ngano dza vhathu.\n",
       "3      4  Kube inja nelikati betingevakala kutsi titsini...\n",
       "4      5                      Winste op buitelandse valuta."
      ]
     },
     "execution_count": 4,
     "metadata": {},
     "output_type": "execute_result"
    }
   ],
   "source": [
    "df_test.head()"
   ]
  },
  {
   "cell_type": "markdown",
   "id": "467a0dcb",
   "metadata": {},
   "source": [
    "- The DataFrame contains two columns, lang_id, and text. These represent the language label and the language text respectively. The next step will be to display the information summary of the DataFrame."
   ]
  },
  {
   "cell_type": "markdown",
   "id": "1552278f",
   "metadata": {},
   "source": [
    "<a id=\"three\"></a>\n",
    "## 4. Exploratory Data Analysis (EDA)\n",
    "<a class=\"anchor\" id=\"1.1\"></a>\n",
    "<a href=#cont>Back to Table of Contents</a>"
   ]
  },
  {
   "cell_type": "markdown",
   "id": "145f84fd",
   "metadata": {},
   "source": [
    "In the exploratory data analysis, the following questions will be answered to get insights from the dataset:\n",
    "\n",
    "- check for number of columns present & datatypes present in the dataset\n",
    "- look for any missing values\n",
    "- Also look for any duplicated values\n",
    "- Check for any relationships between the variables"
   ]
  },
  {
   "cell_type": "code",
   "execution_count": 5,
   "id": "a5a93d71",
   "metadata": {},
   "outputs": [
    {
     "data": {
      "text/plain": [
       "(33000, 2)"
      ]
     },
     "execution_count": 5,
     "metadata": {},
     "output_type": "execute_result"
    }
   ],
   "source": [
    "df_train.shape"
   ]
  },
  {
   "cell_type": "code",
   "execution_count": 6,
   "id": "97e77a0c",
   "metadata": {},
   "outputs": [
    {
     "name": "stdout",
     "output_type": "stream",
     "text": [
      "<class 'pandas.core.frame.DataFrame'>\n",
      "RangeIndex: 33000 entries, 0 to 32999\n",
      "Data columns (total 2 columns):\n",
      " #   Column   Non-Null Count  Dtype \n",
      "---  ------   --------------  ----- \n",
      " 0   lang_id  33000 non-null  object\n",
      " 1   text     33000 non-null  object\n",
      "dtypes: object(2)\n",
      "memory usage: 515.8+ KB\n"
     ]
    }
   ],
   "source": [
    "df_train.info()"
   ]
  },
  {
   "cell_type": "markdown",
   "id": "eded4252",
   "metadata": {},
   "source": [
    "- We have now found out that the data has only 2 columns and 33000 rows.\n",
    "\n",
    "- The datatypes apearing are non numeric."
   ]
  },
  {
   "cell_type": "code",
   "execution_count": 7,
   "id": "a0c849ec",
   "metadata": {},
   "outputs": [
    {
     "data": {
      "text/plain": [
       "(5682, 2)"
      ]
     },
     "execution_count": 7,
     "metadata": {},
     "output_type": "execute_result"
    }
   ],
   "source": [
    "df_test.shape"
   ]
  },
  {
   "cell_type": "code",
   "execution_count": 8,
   "id": "78046cec",
   "metadata": {},
   "outputs": [
    {
     "name": "stdout",
     "output_type": "stream",
     "text": [
      "<class 'pandas.core.frame.DataFrame'>\n",
      "RangeIndex: 5682 entries, 0 to 5681\n",
      "Data columns (total 2 columns):\n",
      " #   Column  Non-Null Count  Dtype \n",
      "---  ------  --------------  ----- \n",
      " 0   index   5682 non-null   int64 \n",
      " 1   text    5682 non-null   object\n",
      "dtypes: int64(1), object(1)\n",
      "memory usage: 88.9+ KB\n"
     ]
    }
   ],
   "source": [
    "df_test.info()"
   ]
  },
  {
   "cell_type": "code",
   "execution_count": 9,
   "id": "ef3e51a0",
   "metadata": {},
   "outputs": [
    {
     "name": "stdout",
     "output_type": "stream",
     "text": [
      "0\n",
      "0\n"
     ]
    }
   ],
   "source": [
    "#checking for nulls\n",
    "\n",
    "print(np.sum(df_train.isnull().any(axis=1)))\n",
    "print(np.sum(df_test.isnull().any(axis=1)))"
   ]
  },
  {
   "cell_type": "markdown",
   "id": "39471424",
   "metadata": {},
   "source": [
    "Simply displaying the train and test data to have a look at the actual data contained within the first 5 columns.\n",
    "\n",
    "The lang_id column contains differnet languages.\n",
    "\n",
    "The text column contains messages from different people expressing their views in different languages.\n",
    "\n",
    "There are no null values in the data, so we can proceed to data cleaning."
   ]
  },
  {
   "cell_type": "code",
   "execution_count": 10,
   "id": "3fe0af56",
   "metadata": {},
   "outputs": [
    {
     "data": {
      "text/plain": [
       "array(['xho', 'eng', 'nso', 'ven', 'tsn', 'nbl', 'zul', 'ssw', 'tso',\n",
       "       'sot', 'afr'], dtype=object)"
      ]
     },
     "execution_count": 10,
     "metadata": {},
     "output_type": "execute_result"
    }
   ],
   "source": [
    "#checking unique target values\n",
    "df_train['lang_id'].unique()"
   ]
  },
  {
   "cell_type": "markdown",
   "id": "cb6fe599",
   "metadata": {},
   "source": [
    "- The above displayed is a list of the language codes representing each of the 11 official South African languages. These are also class labels. For the purpose of building an accurate classification model later in this project, it is important to ensure that the class labels are balanced."
   ]
  },
  {
   "cell_type": "code",
   "execution_count": 11,
   "id": "5b248690",
   "metadata": {},
   "outputs": [
    {
     "data": {
      "text/plain": [
       "lang_id\n",
       "xho    3000\n",
       "eng    3000\n",
       "nso    3000\n",
       "ven    3000\n",
       "tsn    3000\n",
       "nbl    3000\n",
       "zul    3000\n",
       "ssw    3000\n",
       "tso    3000\n",
       "sot    3000\n",
       "afr    3000\n",
       "Name: count, dtype: int64"
      ]
     },
     "execution_count": 11,
     "metadata": {},
     "output_type": "execute_result"
    }
   ],
   "source": [
    "df_train[\"lang_id\"].value_counts() # There are 11 languages and 3000 sentenses in each category"
   ]
  },
  {
   "cell_type": "code",
   "execution_count": 12,
   "id": "361d66c8",
   "metadata": {},
   "outputs": [
    {
     "data": {
      "image/png": "[encoded data removed]",
      "text/plain": [
       "<Figure size 700x400 with 1 Axes>"
      ]
     },
     "metadata": {},
     "output_type": "display_data"
    }
   ],
   "source": [
    "# Plot Class Distributions:\n",
    "plt.figure(figsize=(7,4))\n",
    "sns.barplot(data=df_train, x=df_train['lang_id'].unique(), y=df_train['lang_id'].value_counts())\n",
    "plt.show()"
   ]
  },
  {
   "cell_type": "markdown",
   "id": "8fbfbdab",
   "metadata": {},
   "source": [
    "- The bar plot indicates that there is an even class distribution. 3000 records for each respective class."
   ]
  },
  {
   "cell_type": "code",
   "execution_count": 13,
   "id": "89f11673",
   "metadata": {},
   "outputs": [
    {
     "name": "stdout",
     "output_type": "stream",
     "text": [
      "6.4\n",
      "4.8\n"
     ]
    },
    {
     "data": {
      "text/plain": [
       "<Axes: ylabel='count'>"
      ]
     },
     "execution_count": 13,
     "metadata": {},
     "output_type": "execute_result"
    },
    {
     "data": {
      "image/png": "[encoded data removed]",
      "text/plain": [
       "<Figure size 800x800 with 1 Axes>"
      ]
     },
     "metadata": {},
     "output_type": "display_data"
    }
   ],
   "source": [
    "plot_size = plt.rcParams[\"figure.figsize\"] \n",
    "print(plot_size[0]) \n",
    "print(plot_size[1])\n",
    "\n",
    "plot_size[0] = 8\n",
    "plot_size[1] = 8\n",
    "plt.rcParams[\"figure.figsize\"] = plot_size \n",
    "\n",
    "#  distribution of sentenses from the dataset\n",
    "df_train.lang_id.value_counts().plot(kind='pie', autopct='%1.0f%%')"
   ]
  },
  {
   "cell_type": "code",
   "execution_count": 14,
   "id": "73c8139b",
   "metadata": {},
   "outputs": [
    {
     "data": {
      "text/html": [
       "<div>\n",
       "<style scoped>\n",
       "    .dataframe tbody tr th:only-of-type {\n",
       "        vertical-align: middle;\n",
       "    }\n",
       "\n",
       "    .dataframe tbody tr th {\n",
       "        vertical-align: top;\n",
       "    }\n",
       "\n",
       "    .dataframe thead th {\n",
       "        text-align: right;\n",
       "    }\n",
       "</style>\n",
       "<table border=\"1\" class=\"dataframe\">\n",
       "  <thead>\n",
       "    <tr style=\"text-align: right;\">\n",
       "      <th></th>\n",
       "      <th>count</th>\n",
       "      <th>unique</th>\n",
       "      <th>top</th>\n",
       "      <th>freq</th>\n",
       "    </tr>\n",
       "  </thead>\n",
       "  <tbody>\n",
       "    <tr>\n",
       "      <th>lang_id</th>\n",
       "      <td>33000</td>\n",
       "      <td>11</td>\n",
       "      <td>xho</td>\n",
       "      <td>3000</td>\n",
       "    </tr>\n",
       "  </tbody>\n",
       "</table>\n",
       "</div>"
      ],
      "text/plain": [
       "         count unique  top  freq\n",
       "lang_id  33000     11  xho  3000"
      ]
     },
     "execution_count": 14,
     "metadata": {},
     "output_type": "execute_result"
    }
   ],
   "source": [
    "#Summary statistics\n",
    "\n",
    "df_train[['lang_id']].describe().T"
   ]
  },
  {
   "cell_type": "markdown",
   "id": "ff4afa02",
   "metadata": {},
   "source": [
    "<a id=\"four\"></a>\n",
    "## 5. Feature Engineering\n",
    "<a class=\"anchor\" id=\"1.1\"></a>\n",
    "<a href=#cont>Back to Table of Contents</a>"
   ]
  },
  {
   "cell_type": "code",
   "execution_count": 15,
   "id": "b23edf27",
   "metadata": {},
   "outputs": [],
   "source": [
    "#Making a copy of both the train and test data\n",
    "\n",
    "df = df_train.copy()\n",
    "dft = df_test.copy()"
   ]
  },
  {
   "cell_type": "markdown",
   "id": "9880a154",
   "metadata": {},
   "source": [
    "<a id=\"four.1\"></a>\n",
    "### 5.1 Text Cleaning\n",
    "<a class=\"anchor\" id=\"1.1\"></a>\n",
    "<a href=#cont>Back to Table of Contents</a>"
   ]
  },
  {
   "cell_type": "markdown",
   "id": "7f9f3be7",
   "metadata": {},
   "source": [
    "In context of text analytics, removing noise is a vital part of getting the data into a usable format. For the train dataset, the following will be done:\n",
    "\n",
    "\n",
    "*   making everything lower case\n",
    "*   removing punctuation\n",
    "*   removing digits and words containing digits\n",
    "*   removing hashtags, emojis, and unknown characters"
   ]
  },
  {
   "cell_type": "markdown",
   "id": "85fff03b",
   "metadata": {},
   "source": [
    "### Language Cleaner Function"
   ]
  },
  {
   "cell_type": "code",
   "execution_count": 16,
   "id": "a98421d3",
   "metadata": {},
   "outputs": [],
   "source": [
    "def tweet_cleaner(language):\n",
    "    \n",
    "    \"\"\"\n",
    "    This function is necessary to remove punctuation, hashtags, \n",
    "    numbers and any extra white space from tweets after converting \n",
    "    everything to lowercase letters.\n",
    "    \n",
    "    \"\"\"\n",
    "    # Convert everything to lowercase\n",
    "    language = language.lower() \n",
    "    \n",
    "    # Remove punctuation\n",
    "    language = re.sub(r\"[,.;':@#?!\\&/$]+\\ *\", ' ', language)\n",
    "    \n",
    "    # Remove hashtags\n",
    "    language = re.sub(r'#\\w*', '', language)    \n",
    "    \n",
    "    # Remove numbers\n",
    "    language = re.sub(r'\\d+', '', language)  \n",
    "    \n",
    "    # Remove whitespace in front of language\n",
    "    language = language.lstrip(' ')   \n",
    "    \n",
    "    # Remove extra whitespace\n",
    "    language = re.sub(r'\\s\\s+', ' ', language)\n",
    "                          \n",
    "    \n",
    "    return language"
   ]
  },
  {
   "cell_type": "code",
   "execution_count": 17,
   "id": "546054f1",
   "metadata": {},
   "outputs": [
    {
     "data": {
      "text/html": [
       "<div>\n",
       "<style scoped>\n",
       "    .dataframe tbody tr th:only-of-type {\n",
       "        vertical-align: middle;\n",
       "    }\n",
       "\n",
       "    .dataframe tbody tr th {\n",
       "        vertical-align: top;\n",
       "    }\n",
       "\n",
       "    .dataframe thead th {\n",
       "        text-align: right;\n",
       "    }\n",
       "</style>\n",
       "<table border=\"1\" class=\"dataframe\">\n",
       "  <thead>\n",
       "    <tr style=\"text-align: right;\">\n",
       "      <th></th>\n",
       "      <th>lang_id</th>\n",
       "      <th>text</th>\n",
       "    </tr>\n",
       "  </thead>\n",
       "  <tbody>\n",
       "    <tr>\n",
       "      <th>0</th>\n",
       "      <td>xho</td>\n",
       "      <td>umgaqo-siseko wenza amalungiselelo kumaziko ax...</td>\n",
       "    </tr>\n",
       "    <tr>\n",
       "      <th>1</th>\n",
       "      <td>xho</td>\n",
       "      <td>i-dha iya kuba nobulumko bokubeka umsebenzi na...</td>\n",
       "    </tr>\n",
       "    <tr>\n",
       "      <th>2</th>\n",
       "      <td>eng</td>\n",
       "      <td>the province of kwazulu-natal department of tr...</td>\n",
       "    </tr>\n",
       "    <tr>\n",
       "      <th>3</th>\n",
       "      <td>nso</td>\n",
       "      <td>o netefatša gore o ba file dilo ka moka tše le...</td>\n",
       "    </tr>\n",
       "    <tr>\n",
       "      <th>4</th>\n",
       "      <td>ven</td>\n",
       "      <td>khomishini ya ndinganyiso ya mbeu yo ewa maana...</td>\n",
       "    </tr>\n",
       "  </tbody>\n",
       "</table>\n",
       "</div>"
      ],
      "text/plain": [
       "  lang_id                                               text\n",
       "0     xho  umgaqo-siseko wenza amalungiselelo kumaziko ax...\n",
       "1     xho  i-dha iya kuba nobulumko bokubeka umsebenzi na...\n",
       "2     eng  the province of kwazulu-natal department of tr...\n",
       "3     nso  o netefatša gore o ba file dilo ka moka tše le...\n",
       "4     ven  khomishini ya ndinganyiso ya mbeu yo ewa maana..."
      ]
     },
     "execution_count": 17,
     "metadata": {},
     "output_type": "execute_result"
    }
   ],
   "source": [
    "df['text'] = df['text'].apply(tweet_cleaner)\n",
    "df.head()"
   ]
  },
  {
   "cell_type": "markdown",
   "id": "c2c0cfa7",
   "metadata": {},
   "source": [
    "### Removing Unknown Characters"
   ]
  },
  {
   "cell_type": "code",
   "execution_count": 18,
   "id": "d9cea0b2",
   "metadata": {},
   "outputs": [],
   "source": [
    "#removing the uknown charecters from words\n",
    "\n",
    "pattern_url = r'[^A-Za-z ]'\n",
    "subs_url = r''\n",
    "df['text'] = df['text'].replace(to_replace = pattern_url, value = subs_url, regex = True)"
   ]
  },
  {
   "cell_type": "markdown",
   "id": "3869bfa9",
   "metadata": {},
   "source": [
    "<a id=\"four.2\"></a>\n",
    "### 5.2 Stopwords Removal\n",
    "<a class=\"anchor\" id=\"1.1\"></a>\n",
    "<a href=#cont>Back to Table of Contents</a>"
   ]
  },
  {
   "cell_type": "markdown",
   "id": "98e72510",
   "metadata": {},
   "source": [
    "Stop words are used in Text Mining and Natural Language Processing (NLP) to eliminate words that are so commonly used that they carry very little useful information for machine algorithms. For example, in the context of a search system, if your search query is “what is a stop word?”, you want the search system to focus on surfacing documents that talk about \"stop word\" over documents that talk about \"what is a\".The following code block defines the library to be used for stop word removal. It also removes the stop words from the train dataset."
   ]
  },
  {
   "cell_type": "code",
   "execution_count": 19,
   "id": "39faeff1",
   "metadata": {},
   "outputs": [],
   "source": [
    "#Defining the list of stopword wished to be removed. \n",
    "\n",
    "stopwordlist = ['a', 'about', 'above', 'after', 'again', 'ain', 'all', 'am', 'an',\n",
    "             'and','any','are', 'as', 'at', 'be', 'because', 'been', 'before',\n",
    "             'being', 'below', 'between','both', 'but', 'by', 'can', 'd', 'did',\n",
    "             'does', 'doesn', 'doing', 'down', 'during', 'each','few', 'for', 'from',\n",
    "             'further', 'had', 'has', 'have', 'having', 'he', 'her', 'here',\n",
    "             'hers', 'herself', 'him', 'himself', 'his', 'how', 'i', 'if', 'in',\n",
    "             'into','is', 'it', 'its', 'itself', 'just', 'll', 'm', 'ma',\n",
    "             'me', 'more', 'most','my', 'myself', 'now', 'o', 'of', 'on', 'once',\n",
    "             'only', 'or', 'other', 'our', 'ours','ourselves', 'out', 'own', 're',\n",
    "             's', 'shan', \"shan't\", 'she', \"shes\", 'should', 'shouldve','so', 'some', 'such',\n",
    "             't', 'than', 'that', 'thatll', 'the', 'their', 'theirs', 'them',\n",
    "             'themselves', 'then', 'there', 'these', 'they', 'this', 'those',\n",
    "             'through', 'to', 'too','under', 'until', 'up', 've', 'very', 'wa', 'was',\n",
    "             'we', 'were', 'what', 'when', 'where','which','while', 'who', 'whom',\n",
    "             'why', 'with', 'won', 'y', 'you', 'youd','youll', 'youre',\n",
    "             'you', 've', 'your', 'yours', 'yourself', 'yourselves']\n",
    "\n",
    "STOPWORDS = set(stopwordlist)\n",
    "def cleaning_stopwords(word):\n",
    "    return \" \".join([word for word in str(word).split() if word not in STOPWORDS])"
   ]
  },
  {
   "cell_type": "code",
   "execution_count": 20,
   "id": "5ae752f6",
   "metadata": {},
   "outputs": [
    {
     "data": {
      "text/html": [
       "<div>\n",
       "<style scoped>\n",
       "    .dataframe tbody tr th:only-of-type {\n",
       "        vertical-align: middle;\n",
       "    }\n",
       "\n",
       "    .dataframe tbody tr th {\n",
       "        vertical-align: top;\n",
       "    }\n",
       "\n",
       "    .dataframe thead th {\n",
       "        text-align: right;\n",
       "    }\n",
       "</style>\n",
       "<table border=\"1\" class=\"dataframe\">\n",
       "  <thead>\n",
       "    <tr style=\"text-align: right;\">\n",
       "      <th></th>\n",
       "      <th>text</th>\n",
       "    </tr>\n",
       "  </thead>\n",
       "  <tbody>\n",
       "    <tr>\n",
       "      <th>0</th>\n",
       "      <td>umgaqosiseko wenza amalungiselelo kumaziko axh...</td>\n",
       "    </tr>\n",
       "    <tr>\n",
       "      <th>1</th>\n",
       "      <td>idha iya kuba nobulumko bokubeka umsebenzi nap...</td>\n",
       "    </tr>\n",
       "    <tr>\n",
       "      <th>2</th>\n",
       "      <td>province kwazulunatal department transport inv...</td>\n",
       "    </tr>\n",
       "    <tr>\n",
       "      <th>3</th>\n",
       "      <td>netefata gore ba file dilo ka moka te le dumel...</td>\n",
       "    </tr>\n",
       "    <tr>\n",
       "      <th>4</th>\n",
       "      <td>khomishini ya ndinganyiso ya mbeu yo ewa maana...</td>\n",
       "    </tr>\n",
       "  </tbody>\n",
       "</table>\n",
       "</div>"
      ],
      "text/plain": [
       "                                                text\n",
       "0  umgaqosiseko wenza amalungiselelo kumaziko axh...\n",
       "1  idha iya kuba nobulumko bokubeka umsebenzi nap...\n",
       "2  province kwazulunatal department transport inv...\n",
       "3  netefata gore ba file dilo ka moka te le dumel...\n",
       "4  khomishini ya ndinganyiso ya mbeu yo ewa maana..."
      ]
     },
     "execution_count": 20,
     "metadata": {},
     "output_type": "execute_result"
    }
   ],
   "source": [
    "# using the cleaning stopwords function on the message column\n",
    "\n",
    "df['text'] = df['text'].apply(lambda word: cleaning_stopwords(word))\n",
    "df[['text']].head()"
   ]
  },
  {
   "cell_type": "markdown",
   "id": "ccdf609e",
   "metadata": {},
   "source": [
    "<a id=\"four.3\"></a>\n",
    "## 5.3 Text Normalization\n",
    "<a class=\"anchor\" id=\"1.1\"></a>\n",
    "<a href=#cont>Back to Table of Contents</a>"
   ]
  },
  {
   "cell_type": "markdown",
   "id": "de6d80ee",
   "metadata": {},
   "source": [
    "### 5.3.1 Tokenisation"
   ]
  },
  {
   "cell_type": "markdown",
   "id": "c3eddd15",
   "metadata": {},
   "source": [
    "Tokenization refers to the straightforward transformation of raw information into a structured string of data. In the realm of Natural Language Processing, it serves to break down paragraphs and sentences into smaller components (tokens), facilitating a more efficient interpretation of their significance."
   ]
  },
  {
   "cell_type": "code",
   "execution_count": 21,
   "id": "ca4608d4",
   "metadata": {},
   "outputs": [],
   "source": [
    "#Creating tokenised column\n",
    "\n",
    "tokeniser = TreebankWordTokenizer()\n",
    "df['token'] = df['text'].apply(tokeniser.tokenize)"
   ]
  },
  {
   "cell_type": "code",
   "execution_count": 22,
   "id": "98951218",
   "metadata": {},
   "outputs": [
    {
     "data": {
      "text/html": [
       "<div>\n",
       "<style scoped>\n",
       "    .dataframe tbody tr th:only-of-type {\n",
       "        vertical-align: middle;\n",
       "    }\n",
       "\n",
       "    .dataframe tbody tr th {\n",
       "        vertical-align: top;\n",
       "    }\n",
       "\n",
       "    .dataframe thead th {\n",
       "        text-align: right;\n",
       "    }\n",
       "</style>\n",
       "<table border=\"1\" class=\"dataframe\">\n",
       "  <thead>\n",
       "    <tr style=\"text-align: right;\">\n",
       "      <th></th>\n",
       "      <th>lang_id</th>\n",
       "      <th>text</th>\n",
       "      <th>token</th>\n",
       "    </tr>\n",
       "  </thead>\n",
       "  <tbody>\n",
       "    <tr>\n",
       "      <th>0</th>\n",
       "      <td>xho</td>\n",
       "      <td>umgaqosiseko wenza amalungiselelo kumaziko axh...</td>\n",
       "      <td>[umgaqosiseko, wenza, amalungiselelo, kumaziko...</td>\n",
       "    </tr>\n",
       "    <tr>\n",
       "      <th>1</th>\n",
       "      <td>xho</td>\n",
       "      <td>idha iya kuba nobulumko bokubeka umsebenzi nap...</td>\n",
       "      <td>[idha, iya, kuba, nobulumko, bokubeka, umseben...</td>\n",
       "    </tr>\n",
       "    <tr>\n",
       "      <th>2</th>\n",
       "      <td>eng</td>\n",
       "      <td>province kwazulunatal department transport inv...</td>\n",
       "      <td>[province, kwazulunatal, department, transport...</td>\n",
       "    </tr>\n",
       "    <tr>\n",
       "      <th>3</th>\n",
       "      <td>nso</td>\n",
       "      <td>netefata gore ba file dilo ka moka te le dumel...</td>\n",
       "      <td>[netefata, gore, ba, file, dilo, ka, moka, te,...</td>\n",
       "    </tr>\n",
       "    <tr>\n",
       "      <th>4</th>\n",
       "      <td>ven</td>\n",
       "      <td>khomishini ya ndinganyiso ya mbeu yo ewa maana...</td>\n",
       "      <td>[khomishini, ya, ndinganyiso, ya, mbeu, yo, ew...</td>\n",
       "    </tr>\n",
       "  </tbody>\n",
       "</table>\n",
       "</div>"
      ],
      "text/plain": [
       "  lang_id                                               text  \\\n",
       "0     xho  umgaqosiseko wenza amalungiselelo kumaziko axh...   \n",
       "1     xho  idha iya kuba nobulumko bokubeka umsebenzi nap...   \n",
       "2     eng  province kwazulunatal department transport inv...   \n",
       "3     nso  netefata gore ba file dilo ka moka te le dumel...   \n",
       "4     ven  khomishini ya ndinganyiso ya mbeu yo ewa maana...   \n",
       "\n",
       "                                               token  \n",
       "0  [umgaqosiseko, wenza, amalungiselelo, kumaziko...  \n",
       "1  [idha, iya, kuba, nobulumko, bokubeka, umseben...  \n",
       "2  [province, kwazulunatal, department, transport...  \n",
       "3  [netefata, gore, ba, file, dilo, ka, moka, te,...  \n",
       "4  [khomishini, ya, ndinganyiso, ya, mbeu, yo, ew...  "
      ]
     },
     "execution_count": 22,
     "metadata": {},
     "output_type": "execute_result"
    }
   ],
   "source": [
    "df.head()"
   ]
  },
  {
   "cell_type": "markdown",
   "id": "57346ef5",
   "metadata": {},
   "source": [
    "### 5.3.2 Lemmatization"
   ]
  },
  {
   "cell_type": "markdown",
   "id": "a45fc38b",
   "metadata": {},
   "source": [
    "Lemmatization is a systematic and methodical approach to deriving the base or root form of a word, employing both vocabulary knowledge (the importance of words in a dictionary) and morphological analysis (considering word structure and grammar relationships).\n",
    "\n",
    "Performing lemmatization on the text within a dataset is crucial to render it comprehensible for the machine."
   ]
  },
  {
   "cell_type": "code",
   "execution_count": 23,
   "id": "408914c3",
   "metadata": {},
   "outputs": [],
   "source": [
    "lemmatizer = WordNetLemmatizer()\n",
    "\n",
    "def df_lemmatization(words, lemmatizer):\n",
    "    return [lemmatizer.lemmatize(word) for word in words]"
   ]
  },
  {
   "cell_type": "code",
   "execution_count": 24,
   "id": "1235efa4",
   "metadata": {},
   "outputs": [],
   "source": [
    "df['lemmatization'] = df['token'].apply(df_lemmatization, args=(lemmatizer, ))"
   ]
  },
  {
   "cell_type": "code",
   "execution_count": 25,
   "id": "bf09c1f7",
   "metadata": {},
   "outputs": [
    {
     "data": {
      "text/html": [
       "<div>\n",
       "<style scoped>\n",
       "    .dataframe tbody tr th:only-of-type {\n",
       "        vertical-align: middle;\n",
       "    }\n",
       "\n",
       "    .dataframe tbody tr th {\n",
       "        vertical-align: top;\n",
       "    }\n",
       "\n",
       "    .dataframe thead th {\n",
       "        text-align: right;\n",
       "    }\n",
       "</style>\n",
       "<table border=\"1\" class=\"dataframe\">\n",
       "  <thead>\n",
       "    <tr style=\"text-align: right;\">\n",
       "      <th></th>\n",
       "      <th>lang_id</th>\n",
       "      <th>text</th>\n",
       "      <th>token</th>\n",
       "      <th>lemmatization</th>\n",
       "    </tr>\n",
       "  </thead>\n",
       "  <tbody>\n",
       "    <tr>\n",
       "      <th>32995</th>\n",
       "      <td>tsn</td>\n",
       "      <td>popo ya dipolateforomo tse ke go tlisa boetele...</td>\n",
       "      <td>[popo, ya, dipolateforomo, tse, ke, go, tlisa,...</td>\n",
       "      <td>[popo, ya, dipolateforomo, tse, ke, go, tlisa,...</td>\n",
       "    </tr>\n",
       "    <tr>\n",
       "      <th>32996</th>\n",
       "      <td>sot</td>\n",
       "      <td>modise mosadi na ntse sa utlwe hore thabang ra...</td>\n",
       "      <td>[modise, mosadi, na, ntse, sa, utlwe, hore, th...</td>\n",
       "      <td>[modise, mosadi, na, ntse, sa, utlwe, hore, th...</td>\n",
       "    </tr>\n",
       "    <tr>\n",
       "      <th>32997</th>\n",
       "      <td>eng</td>\n",
       "      <td>closing date submission completed tenders augu...</td>\n",
       "      <td>[closing, date, submission, completed, tenders...</td>\n",
       "      <td>[closing, date, submission, completed, tender,...</td>\n",
       "    </tr>\n",
       "    <tr>\n",
       "      <th>32998</th>\n",
       "      <td>xho</td>\n",
       "      <td>nawuphina umntu ofunyenwe enetyala phantsi kwa...</td>\n",
       "      <td>[nawuphina, umntu, ofunyenwe, enetyala, phants...</td>\n",
       "      <td>[nawuphina, umntu, ofunyenwe, enetyala, phants...</td>\n",
       "    </tr>\n",
       "    <tr>\n",
       "      <th>32999</th>\n",
       "      <td>sot</td>\n",
       "      <td>mafapha mang le ona lokela ho etsa ditlaleho t...</td>\n",
       "      <td>[mafapha, mang, le, ona, lokela, ho, etsa, dit...</td>\n",
       "      <td>[mafapha, mang, le, ona, lokela, ho, etsa, dit...</td>\n",
       "    </tr>\n",
       "  </tbody>\n",
       "</table>\n",
       "</div>"
      ],
      "text/plain": [
       "      lang_id                                               text  \\\n",
       "32995     tsn  popo ya dipolateforomo tse ke go tlisa boetele...   \n",
       "32996     sot  modise mosadi na ntse sa utlwe hore thabang ra...   \n",
       "32997     eng  closing date submission completed tenders augu...   \n",
       "32998     xho  nawuphina umntu ofunyenwe enetyala phantsi kwa...   \n",
       "32999     sot  mafapha mang le ona lokela ho etsa ditlaleho t...   \n",
       "\n",
       "                                                   token  \\\n",
       "32995  [popo, ya, dipolateforomo, tse, ke, go, tlisa,...   \n",
       "32996  [modise, mosadi, na, ntse, sa, utlwe, hore, th...   \n",
       "32997  [closing, date, submission, completed, tenders...   \n",
       "32998  [nawuphina, umntu, ofunyenwe, enetyala, phants...   \n",
       "32999  [mafapha, mang, le, ona, lokela, ho, etsa, dit...   \n",
       "\n",
       "                                           lemmatization  \n",
       "32995  [popo, ya, dipolateforomo, tse, ke, go, tlisa,...  \n",
       "32996  [modise, mosadi, na, ntse, sa, utlwe, hore, th...  \n",
       "32997  [closing, date, submission, completed, tender,...  \n",
       "32998  [nawuphina, umntu, ofunyenwe, enetyala, phants...  \n",
       "32999  [mafapha, mang, le, ona, lokela, ho, etsa, dit...  "
      ]
     },
     "execution_count": 25,
     "metadata": {},
     "output_type": "execute_result"
    }
   ],
   "source": [
    "df.tail()"
   ]
  },
  {
   "cell_type": "markdown",
   "id": "218f2f0b",
   "metadata": {},
   "source": [
    "- Now that the data has been cleaned, a new column consisting of the lemmmatized words in string datatype will be created and used going forward in this report."
   ]
  },
  {
   "cell_type": "code",
   "execution_count": 26,
   "id": "5aa66b66",
   "metadata": {},
   "outputs": [
    {
     "data": {
      "text/html": [
       "<div>\n",
       "<style scoped>\n",
       "    .dataframe tbody tr th:only-of-type {\n",
       "        vertical-align: middle;\n",
       "    }\n",
       "\n",
       "    .dataframe tbody tr th {\n",
       "        vertical-align: top;\n",
       "    }\n",
       "\n",
       "    .dataframe thead th {\n",
       "        text-align: right;\n",
       "    }\n",
       "</style>\n",
       "<table border=\"1\" class=\"dataframe\">\n",
       "  <thead>\n",
       "    <tr style=\"text-align: right;\">\n",
       "      <th></th>\n",
       "      <th>lang_id</th>\n",
       "      <th>text</th>\n",
       "      <th>token</th>\n",
       "      <th>lemmatization</th>\n",
       "      <th>lemmatized_str</th>\n",
       "    </tr>\n",
       "  </thead>\n",
       "  <tbody>\n",
       "    <tr>\n",
       "      <th>0</th>\n",
       "      <td>xho</td>\n",
       "      <td>umgaqosiseko wenza amalungiselelo kumaziko axh...</td>\n",
       "      <td>[umgaqosiseko, wenza, amalungiselelo, kumaziko...</td>\n",
       "      <td>[umgaqosiseko, wenza, amalungiselelo, kumaziko...</td>\n",
       "      <td>umgaqosiseko wenza amalungiselelo kumaziko axh...</td>\n",
       "    </tr>\n",
       "    <tr>\n",
       "      <th>1</th>\n",
       "      <td>xho</td>\n",
       "      <td>idha iya kuba nobulumko bokubeka umsebenzi nap...</td>\n",
       "      <td>[idha, iya, kuba, nobulumko, bokubeka, umseben...</td>\n",
       "      <td>[idha, iya, kuba, nobulumko, bokubeka, umseben...</td>\n",
       "      <td>idha iya kuba nobulumko bokubeka umsebenzi nap...</td>\n",
       "    </tr>\n",
       "    <tr>\n",
       "      <th>2</th>\n",
       "      <td>eng</td>\n",
       "      <td>province kwazulunatal department transport inv...</td>\n",
       "      <td>[province, kwazulunatal, department, transport...</td>\n",
       "      <td>[province, kwazulunatal, department, transport...</td>\n",
       "      <td>province kwazulunatal department transport inv...</td>\n",
       "    </tr>\n",
       "    <tr>\n",
       "      <th>3</th>\n",
       "      <td>nso</td>\n",
       "      <td>netefata gore ba file dilo ka moka te le dumel...</td>\n",
       "      <td>[netefata, gore, ba, file, dilo, ka, moka, te,...</td>\n",
       "      <td>[netefata, gore, ba, file, dilo, ka, moka, te,...</td>\n",
       "      <td>netefata gore ba file dilo ka moka te le dumel...</td>\n",
       "    </tr>\n",
       "    <tr>\n",
       "      <th>4</th>\n",
       "      <td>ven</td>\n",
       "      <td>khomishini ya ndinganyiso ya mbeu yo ewa maana...</td>\n",
       "      <td>[khomishini, ya, ndinganyiso, ya, mbeu, yo, ew...</td>\n",
       "      <td>[khomishini, ya, ndinganyiso, ya, mbeu, yo, ew...</td>\n",
       "      <td>khomishini ya ndinganyiso ya mbeu yo ewa maana...</td>\n",
       "    </tr>\n",
       "  </tbody>\n",
       "</table>\n",
       "</div>"
      ],
      "text/plain": [
       "  lang_id                                               text  \\\n",
       "0     xho  umgaqosiseko wenza amalungiselelo kumaziko axh...   \n",
       "1     xho  idha iya kuba nobulumko bokubeka umsebenzi nap...   \n",
       "2     eng  province kwazulunatal department transport inv...   \n",
       "3     nso  netefata gore ba file dilo ka moka te le dumel...   \n",
       "4     ven  khomishini ya ndinganyiso ya mbeu yo ewa maana...   \n",
       "\n",
       "                                               token  \\\n",
       "0  [umgaqosiseko, wenza, amalungiselelo, kumaziko...   \n",
       "1  [idha, iya, kuba, nobulumko, bokubeka, umseben...   \n",
       "2  [province, kwazulunatal, department, transport...   \n",
       "3  [netefata, gore, ba, file, dilo, ka, moka, te,...   \n",
       "4  [khomishini, ya, ndinganyiso, ya, mbeu, yo, ew...   \n",
       "\n",
       "                                       lemmatization  \\\n",
       "0  [umgaqosiseko, wenza, amalungiselelo, kumaziko...   \n",
       "1  [idha, iya, kuba, nobulumko, bokubeka, umseben...   \n",
       "2  [province, kwazulunatal, department, transport...   \n",
       "3  [netefata, gore, ba, file, dilo, ka, moka, te,...   \n",
       "4  [khomishini, ya, ndinganyiso, ya, mbeu, yo, ew...   \n",
       "\n",
       "                                      lemmatized_str  \n",
       "0  umgaqosiseko wenza amalungiselelo kumaziko axh...  \n",
       "1  idha iya kuba nobulumko bokubeka umsebenzi nap...  \n",
       "2  province kwazulunatal department transport inv...  \n",
       "3  netefata gore ba file dilo ka moka te le dumel...  \n",
       "4  khomishini ya ndinganyiso ya mbeu yo ewa maana...  "
      ]
     },
     "execution_count": 26,
     "metadata": {},
     "output_type": "execute_result"
    }
   ],
   "source": [
    "df['lemmatized_str'] = [' '.join(map(str,l)) for l in df['lemmatization']]\n",
    "df.head()"
   ]
  },
  {
   "cell_type": "markdown",
   "id": "4153af38",
   "metadata": {},
   "source": [
    "<a id=\"five\"></a>\n",
    "## 6. Cleaning Imbalanced Data\n",
    "<a class=\"anchor\" id=\"1.1\"></a>\n",
    "<a href=#cont>Back to Table of Contents</a>\n",
    "\n",
    "---\n",
    "Cleaning imbalanced data involves addressing the unequal distribution of classes in a dataset. It aims to balance class representation to prevent biases in machine learning models. Techniques like resampling (upsampling, downsampling), SMOTE, or using specialized algorithms help create a more even class distribution for fairer model training and better predictive performance.\n"
   ]
  },
  {
   "cell_type": "markdown",
   "id": "6124f651",
   "metadata": {},
   "source": [
    "<a id=\"six\"></a>\n",
    "## 7. Data Modelling\n",
    "<a class=\"anchor\" id=\"1.1\"></a>\n",
    "<a href=#cont>Back to Table of Contents</a>\n"
   ]
  },
  {
   "cell_type": "markdown",
   "id": "c4eb5304",
   "metadata": {},
   "source": [
    "**Multi-label classification** involves classification tasks encompassing two or more class labels, where individual examples might be associated with one or more class labels. Due to the presence of multiple classes in this data, employing multi-class classification algorithms becomes essential for accurate outcomes.\n",
    "\n",
    "In this segment, we'll conduct training and prediction using several well-known algorithms suitable for multi-class classification:\n",
    "\n",
    "- Logistic Regression\n",
    "- Support Vector Machine\n",
    "- Random Forest Classifier\n",
    "- Bernoulli Naive Bayes\n",
    "- K-Neighbors Classifier\n"
   ]
  },
  {
   "cell_type": "markdown",
   "id": "479717d2",
   "metadata": {},
   "source": [
    "### Split Data Into Features and Labels:"
   ]
  },
  {
   "cell_type": "code",
   "execution_count": 27,
   "id": "6aea1354",
   "metadata": {
    "scrolled": true
   },
   "outputs": [],
   "source": [
    "# Define Features and Labels:\n",
    "X = df_train['text'] # Features\n",
    "y = df_train['lang_id'] # Labels"
   ]
  },
  {
   "cell_type": "code",
   "execution_count": 28,
   "id": "9528c80d",
   "metadata": {},
   "outputs": [],
   "source": [
    "# create a scaler object\n",
    "from sklearn import preprocessing\n",
    "scaler = preprocessing.MinMaxScaler()"
   ]
  },
  {
   "cell_type": "code",
   "execution_count": 29,
   "id": "e17f9aed",
   "metadata": {},
   "outputs": [],
   "source": [
    "# dividing X, y into train and test data\n",
    "X_train_up, X_test_up, y_train_up, y_test_up = train_test_split(X, y, test_size=0.2, random_state = 50)"
   ]
  },
  {
   "cell_type": "code",
   "execution_count": 30,
   "id": "0921e671",
   "metadata": {},
   "outputs": [],
   "source": [
    "from sklearn.feature_extraction.text import TfidfVectorizer\n",
    "\n",
    "vectorizer = TfidfVectorizer()\n",
    "X_train_up_vect = vectorizer.fit_transform(X_train_up)\n",
    "X_test_up_vect = vectorizer.transform(X_test_up)\n",
    "\n",
    "# Scale data\n",
    "scaler = preprocessing.MaxAbsScaler ()\n",
    "X_train_up_scaled = scaler.fit_transform(X_train_up_vect)\n",
    "X_test_up_scaled = scaler.transform(X_test_up_vect)"
   ]
  },
  {
   "cell_type": "markdown",
   "id": "a48579df",
   "metadata": {},
   "source": [
    "<a id=\"six.1\"></a>\n",
    "### 7.1 Training Models\n",
    "<a class=\"anchor\" id=\"1.1\"></a>\n",
    "<a href=#cont>Back to Table of Contents</a>\n"
   ]
  },
  {
   "cell_type": "markdown",
   "id": "2e8374a8",
   "metadata": {},
   "source": [
    "#### Logistic Regression\n",
    "Logistic regression establishes a link between predictor variables and a categorical outcome. It aids in estimating the likelihood of belonging to a specific category within the response variable based on a given set of predictors."
   ]
  },
  {
   "cell_type": "code",
   "execution_count": 31,
   "id": "b5ebfd57",
   "metadata": {},
   "outputs": [],
   "source": [
    "from sklearn.linear_model import LogisticRegression\n",
    "from sklearn.metrics import classification_report, accuracy_score, log_loss"
   ]
  },
  {
   "cell_type": "code",
   "execution_count": 32,
   "id": "3d4c878d",
   "metadata": {},
   "outputs": [
    {
     "data": {
      "text/html": [
       "<style>#sk-container-id-1 {color: black;}#sk-container-id-1 pre{padding: 0;}#sk-container-id-1 div.sk-toggleable {background-color: white;}#sk-container-id-1 label.sk-toggleable__label {cursor: pointer;display: block;width: 100%;margin-bottom: 0;padding: 0.3em;box-sizing: border-box;text-align: center;}#sk-container-id-1 label.sk-toggleable__label-arrow:before {content: \"▸\";float: left;margin-right: 0.25em;color: #696969;}#sk-container-id-1 label.sk-toggleable__label-arrow:hover:before {color: black;}#sk-container-id-1 div.sk-estimator:hover label.sk-toggleable__label-arrow:before {color: black;}#sk-container-id-1 div.sk-toggleable__content {max-height: 0;max-width: 0;overflow: hidden;text-align: left;background-color: #f0f8ff;}#sk-container-id-1 div.sk-toggleable__content pre {margin: 0.2em;color: black;border-radius: 0.25em;background-color: #f0f8ff;}#sk-container-id-1 input.sk-toggleable__control:checked~div.sk-toggleable__content {max-height: 200px;max-width: 100%;overflow: auto;}#sk-container-id-1 input.sk-toggleable__control:checked~label.sk-toggleable__label-arrow:before {content: \"▾\";}#sk-container-id-1 div.sk-estimator input.sk-toggleable__control:checked~label.sk-toggleable__label {background-color: #d4ebff;}#sk-container-id-1 div.sk-label input.sk-toggleable__control:checked~label.sk-toggleable__label {background-color: #d4ebff;}#sk-container-id-1 input.sk-hidden--visually {border: 0;clip: rect(1px 1px 1px 1px);clip: rect(1px, 1px, 1px, 1px);height: 1px;margin: -1px;overflow: hidden;padding: 0;position: absolute;width: 1px;}#sk-container-id-1 div.sk-estimator {font-family: monospace;background-color: #f0f8ff;border: 1px dotted black;border-radius: 0.25em;box-sizing: border-box;margin-bottom: 0.5em;}#sk-container-id-1 div.sk-estimator:hover {background-color: #d4ebff;}#sk-container-id-1 div.sk-parallel-item::after {content: \"\";width: 100%;border-bottom: 1px solid gray;flex-grow: 1;}#sk-container-id-1 div.sk-label:hover label.sk-toggleable__label {background-color: #d4ebff;}#sk-container-id-1 div.sk-serial::before {content: \"\";position: absolute;border-left: 1px solid gray;box-sizing: border-box;top: 0;bottom: 0;left: 50%;z-index: 0;}#sk-container-id-1 div.sk-serial {display: flex;flex-direction: column;align-items: center;background-color: white;padding-right: 0.2em;padding-left: 0.2em;position: relative;}#sk-container-id-1 div.sk-item {position: relative;z-index: 1;}#sk-container-id-1 div.sk-parallel {display: flex;align-items: stretch;justify-content: center;background-color: white;position: relative;}#sk-container-id-1 div.sk-item::before, #sk-container-id-1 div.sk-parallel-item::before {content: \"\";position: absolute;border-left: 1px solid gray;box-sizing: border-box;top: 0;bottom: 0;left: 50%;z-index: -1;}#sk-container-id-1 div.sk-parallel-item {display: flex;flex-direction: column;z-index: 1;position: relative;background-color: white;}#sk-container-id-1 div.sk-parallel-item:first-child::after {align-self: flex-end;width: 50%;}#sk-container-id-1 div.sk-parallel-item:last-child::after {align-self: flex-start;width: 50%;}#sk-container-id-1 div.sk-parallel-item:only-child::after {width: 0;}#sk-container-id-1 div.sk-dashed-wrapped {border: 1px dashed gray;margin: 0 0.4em 0.5em 0.4em;box-sizing: border-box;padding-bottom: 0.4em;background-color: white;}#sk-container-id-1 div.sk-label label {font-family: monospace;font-weight: bold;display: inline-block;line-height: 1.2em;}#sk-container-id-1 div.sk-label-container {text-align: center;}#sk-container-id-1 div.sk-container {/* jupyter's `normalize.less` sets `[hidden] { display: none; }` but bootstrap.min.css set `[hidden] { display: none !important; }` so we also need the `!important` here to be able to override the default hidden behavior on the sphinx rendered scikit-learn.org. See: https://github.com/scikit-learn/scikit-learn/issues/21755 */display: inline-block !important;position: relative;}#sk-container-id-1 div.sk-text-repr-fallback {display: none;}</style><div id=\"sk-container-id-1\" class=\"sk-top-container\"><div class=\"sk-text-repr-fallback\"><pre>LogisticRegression(multi_class=&#x27;ovr&#x27;)</pre><b>In a Jupyter environment, please rerun this cell to show the HTML representation or trust the notebook. <br />On GitHub, the HTML representation is unable to render, please try loading this page with nbviewer.org.</b></div><div class=\"sk-container\" hidden><div class=\"sk-item\"><div class=\"sk-estimator sk-toggleable\"><input class=\"sk-toggleable__control sk-hidden--visually\" id=\"sk-estimator-id-1\" type=\"checkbox\" checked><label for=\"sk-estimator-id-1\" class=\"sk-toggleable__label sk-toggleable__label-arrow\">LogisticRegression</label><div class=\"sk-toggleable__content\"><pre>LogisticRegression(multi_class=&#x27;ovr&#x27;)</pre></div></div></div></div></div>"
      ],
      "text/plain": [
       "LogisticRegression(multi_class='ovr')"
      ]
     },
     "execution_count": 32,
     "metadata": {},
     "output_type": "execute_result"
    }
   ],
   "source": [
    "lr = LogisticRegression(multi_class='ovr')\n",
    "lr.fit(X_train_up_vect,y_train_up)"
   ]
  },
  {
   "cell_type": "code",
   "execution_count": 33,
   "id": "0a86561e",
   "metadata": {},
   "outputs": [],
   "source": [
    "y_pred = lr.predict(X_test_up_vect)"
   ]
  },
  {
   "cell_type": "code",
   "execution_count": 34,
   "id": "302a2426",
   "metadata": {},
   "outputs": [
    {
     "name": "stdout",
     "output_type": "stream",
     "text": [
      "Linear logistics perfomance report\n",
      "              precision    recall  f1-score   support\n",
      "\n",
      "         afr       1.00      1.00      1.00       596\n",
      "         eng       1.00      1.00      1.00       595\n",
      "         nbl       0.99      0.97      0.98       594\n",
      "         nso       1.00      1.00      1.00       581\n",
      "         sot       1.00      1.00      1.00       600\n",
      "         ssw       0.99      1.00      0.99       601\n",
      "         tsn       1.00      1.00      1.00       609\n",
      "         tso       1.00      1.00      1.00       606\n",
      "         ven       1.00      1.00      1.00       614\n",
      "         xho       0.98      1.00      0.99       606\n",
      "         zul       0.98      0.98      0.98       598\n",
      "\n",
      "    accuracy                           0.99      6600\n",
      "   macro avg       0.99      0.99      0.99      6600\n",
      "weighted avg       0.99      0.99      0.99      6600\n",
      "\n"
     ]
    }
   ],
   "source": [
    "print('Linear logistics perfomance report')\n",
    "print(classification_report(y_test_up, y_pred ))"
   ]
  },
  {
   "cell_type": "markdown",
   "id": "5dd4ccc5",
   "metadata": {},
   "source": [
    "#### SVC - Support Vector Classifier\n",
    "SVM or Support Vector Machine is a linear model for classification and regression problems. It can solve linear and non-linear problems and work well for many practical problems. The algorithm creates a line or a hyperplane which separates the data into classes."
   ]
  },
  {
   "cell_type": "code",
   "execution_count": 35,
   "id": "595d2824",
   "metadata": {},
   "outputs": [
    {
     "data": {
      "text/html": [
       "<style>#sk-container-id-2 {color: black;}#sk-container-id-2 pre{padding: 0;}#sk-container-id-2 div.sk-toggleable {background-color: white;}#sk-container-id-2 label.sk-toggleable__label {cursor: pointer;display: block;width: 100%;margin-bottom: 0;padding: 0.3em;box-sizing: border-box;text-align: center;}#sk-container-id-2 label.sk-toggleable__label-arrow:before {content: \"▸\";float: left;margin-right: 0.25em;color: #696969;}#sk-container-id-2 label.sk-toggleable__label-arrow:hover:before {color: black;}#sk-container-id-2 div.sk-estimator:hover label.sk-toggleable__label-arrow:before {color: black;}#sk-container-id-2 div.sk-toggleable__content {max-height: 0;max-width: 0;overflow: hidden;text-align: left;background-color: #f0f8ff;}#sk-container-id-2 div.sk-toggleable__content pre {margin: 0.2em;color: black;border-radius: 0.25em;background-color: #f0f8ff;}#sk-container-id-2 input.sk-toggleable__control:checked~div.sk-toggleable__content {max-height: 200px;max-width: 100%;overflow: auto;}#sk-container-id-2 input.sk-toggleable__control:checked~label.sk-toggleable__label-arrow:before {content: \"▾\";}#sk-container-id-2 div.sk-estimator input.sk-toggleable__control:checked~label.sk-toggleable__label {background-color: #d4ebff;}#sk-container-id-2 div.sk-label input.sk-toggleable__control:checked~label.sk-toggleable__label {background-color: #d4ebff;}#sk-container-id-2 input.sk-hidden--visually {border: 0;clip: rect(1px 1px 1px 1px);clip: rect(1px, 1px, 1px, 1px);height: 1px;margin: -1px;overflow: hidden;padding: 0;position: absolute;width: 1px;}#sk-container-id-2 div.sk-estimator {font-family: monospace;background-color: #f0f8ff;border: 1px dotted black;border-radius: 0.25em;box-sizing: border-box;margin-bottom: 0.5em;}#sk-container-id-2 div.sk-estimator:hover {background-color: #d4ebff;}#sk-container-id-2 div.sk-parallel-item::after {content: \"\";width: 100%;border-bottom: 1px solid gray;flex-grow: 1;}#sk-container-id-2 div.sk-label:hover label.sk-toggleable__label {background-color: #d4ebff;}#sk-container-id-2 div.sk-serial::before {content: \"\";position: absolute;border-left: 1px solid gray;box-sizing: border-box;top: 0;bottom: 0;left: 50%;z-index: 0;}#sk-container-id-2 div.sk-serial {display: flex;flex-direction: column;align-items: center;background-color: white;padding-right: 0.2em;padding-left: 0.2em;position: relative;}#sk-container-id-2 div.sk-item {position: relative;z-index: 1;}#sk-container-id-2 div.sk-parallel {display: flex;align-items: stretch;justify-content: center;background-color: white;position: relative;}#sk-container-id-2 div.sk-item::before, #sk-container-id-2 div.sk-parallel-item::before {content: \"\";position: absolute;border-left: 1px solid gray;box-sizing: border-box;top: 0;bottom: 0;left: 50%;z-index: -1;}#sk-container-id-2 div.sk-parallel-item {display: flex;flex-direction: column;z-index: 1;position: relative;background-color: white;}#sk-container-id-2 div.sk-parallel-item:first-child::after {align-self: flex-end;width: 50%;}#sk-container-id-2 div.sk-parallel-item:last-child::after {align-self: flex-start;width: 50%;}#sk-container-id-2 div.sk-parallel-item:only-child::after {width: 0;}#sk-container-id-2 div.sk-dashed-wrapped {border: 1px dashed gray;margin: 0 0.4em 0.5em 0.4em;box-sizing: border-box;padding-bottom: 0.4em;background-color: white;}#sk-container-id-2 div.sk-label label {font-family: monospace;font-weight: bold;display: inline-block;line-height: 1.2em;}#sk-container-id-2 div.sk-label-container {text-align: center;}#sk-container-id-2 div.sk-container {/* jupyter's `normalize.less` sets `[hidden] { display: none; }` but bootstrap.min.css set `[hidden] { display: none !important; }` so we also need the `!important` here to be able to override the default hidden behavior on the sphinx rendered scikit-learn.org. See: https://github.com/scikit-learn/scikit-learn/issues/21755 */display: inline-block !important;position: relative;}#sk-container-id-2 div.sk-text-repr-fallback {display: none;}</style><div id=\"sk-container-id-2\" class=\"sk-top-container\"><div class=\"sk-text-repr-fallback\"><pre>SVC()</pre><b>In a Jupyter environment, please rerun this cell to show the HTML representation or trust the notebook. <br />On GitHub, the HTML representation is unable to render, please try loading this page with nbviewer.org.</b></div><div class=\"sk-container\" hidden><div class=\"sk-item\"><div class=\"sk-estimator sk-toggleable\"><input class=\"sk-toggleable__control sk-hidden--visually\" id=\"sk-estimator-id-2\" type=\"checkbox\" checked><label for=\"sk-estimator-id-2\" class=\"sk-toggleable__label sk-toggleable__label-arrow\">SVC</label><div class=\"sk-toggleable__content\"><pre>SVC()</pre></div></div></div></div></div>"
      ],
      "text/plain": [
       "SVC()"
      ]
     },
     "execution_count": 35,
     "metadata": {},
     "output_type": "execute_result"
    }
   ],
   "source": [
    "from sklearn.svm import SVC\n",
    "\n",
    "svc = SVC(kernel='rbf')\n",
    "model_svc = svc.fit(X_train_up_vect,y_train_up)\n",
    "model_svc"
   ]
  },
  {
   "cell_type": "code",
   "execution_count": 36,
   "id": "261db448",
   "metadata": {},
   "outputs": [],
   "source": [
    "y_pred2 = svc.predict(X_test_up_vect)"
   ]
  },
  {
   "cell_type": "code",
   "execution_count": 37,
   "id": "c1d21919",
   "metadata": {},
   "outputs": [
    {
     "name": "stdout",
     "output_type": "stream",
     "text": [
      "\n",
      "\n",
      " Support Vector Machine perfomance report:\n",
      "\n",
      "               precision    recall  f1-score   support\n",
      "\n",
      "         afr       1.00      1.00      1.00       596\n",
      "         eng       1.00      1.00      1.00       595\n",
      "         nbl       1.00      0.98      0.99       594\n",
      "         nso       1.00      0.99      1.00       581\n",
      "         sot       1.00      1.00      1.00       600\n",
      "         ssw       1.00      1.00      1.00       601\n",
      "         tsn       1.00      1.00      1.00       609\n",
      "         tso       1.00      1.00      1.00       606\n",
      "         ven       1.00      1.00      1.00       614\n",
      "         xho       0.98      1.00      0.99       606\n",
      "         zul       0.99      0.99      0.99       598\n",
      "\n",
      "    accuracy                           1.00      6600\n",
      "   macro avg       1.00      1.00      1.00      6600\n",
      "weighted avg       1.00      1.00      1.00      6600\n",
      "\n"
     ]
    }
   ],
   "source": [
    "print(\"\\n\\n Support Vector Machine perfomance report:\\n\\n\", classification_report(y_test_up, y_pred2))\n",
    "#log_confusion_matrix()"
   ]
  },
  {
   "cell_type": "markdown",
   "id": "da3b316e",
   "metadata": {},
   "source": [
    "#### Random Forest Classifier\n",
    "The Random Forest Classifier is an ensemble algorithm composed of numerous decision trees. It employs bagging and introduces randomness in feature selection when constructing each tree. The aim is to generate an uncorrelated collection of trees, wherein the combined predictions from multiple trees result in greater accuracy compared to any single tree on its own."
   ]
  },
  {
   "cell_type": "code",
   "execution_count": 38,
   "id": "77f7e83d",
   "metadata": {},
   "outputs": [],
   "source": [
    "from sklearn.ensemble import RandomForestClassifier\n"
   ]
  },
  {
   "cell_type": "code",
   "execution_count": 39,
   "id": "763cd9e8",
   "metadata": {},
   "outputs": [],
   "source": [
    "rf = RandomForestClassifier()\n",
    "\n",
    "rf.fit(X_train_up_vect, y_train_up)\n",
    "y_pred3 = rf.predict(X_test_up_vect)"
   ]
  },
  {
   "cell_type": "code",
   "execution_count": 40,
   "id": "1a17ddee",
   "metadata": {},
   "outputs": [
    {
     "name": "stdout",
     "output_type": "stream",
     "text": [
      "\n",
      "\n",
      "Random Forest Classifier performance report:\n",
      "\n",
      "               precision    recall  f1-score   support\n",
      "\n",
      "         afr       1.00      1.00      1.00       596\n",
      "         eng       0.99      1.00      1.00       595\n",
      "         nbl       0.99      0.94      0.96       594\n",
      "         nso       1.00      1.00      1.00       581\n",
      "         sot       1.00      1.00      1.00       600\n",
      "         ssw       0.97      0.98      0.97       601\n",
      "         tsn       1.00      1.00      1.00       609\n",
      "         tso       1.00      1.00      1.00       606\n",
      "         ven       1.00      1.00      1.00       614\n",
      "         xho       0.97      0.99      0.98       606\n",
      "         zul       0.95      0.96      0.95       598\n",
      "\n",
      "    accuracy                           0.99      6600\n",
      "   macro avg       0.99      0.99      0.99      6600\n",
      "weighted avg       0.99      0.99      0.99      6600\n",
      "\n"
     ]
    }
   ],
   "source": [
    "print(\"\\n\\nRandom Forest Classifier performance report:\\n\\n\", classification_report(y_test_up, y_pred3))"
   ]
  },
  {
   "cell_type": "markdown",
   "id": "99596e12",
   "metadata": {},
   "source": [
    "#### Multinomial Naive Bayes"
   ]
  },
  {
   "cell_type": "code",
   "execution_count": 41,
   "id": "d5b6ccab",
   "metadata": {},
   "outputs": [],
   "source": [
    "from sklearn.pipeline import Pipeline\n",
    "from sklearn.naive_bayes import MultinomialNB\n",
    "from sklearn.metrics import classification_report, accuracy_score"
   ]
  },
  {
   "cell_type": "code",
   "execution_count": 42,
   "id": "9a6bca88",
   "metadata": {},
   "outputs": [],
   "source": [
    "MNBmodel = MultinomialNB()\n",
    "MNBmodel_fit = MNBmodel.fit(X_train_up_vect, y_train_up)"
   ]
  },
  {
   "cell_type": "code",
   "execution_count": 43,
   "id": "b72e4821",
   "metadata": {},
   "outputs": [],
   "source": [
    "y_pred4 = MNBmodel.predict(X_test_up_vect)"
   ]
  },
  {
   "cell_type": "code",
   "execution_count": 44,
   "id": "7db29972",
   "metadata": {},
   "outputs": [
    {
     "name": "stdout",
     "output_type": "stream",
     "text": [
      "\n",
      "\n",
      "Miltinomial Naive Bayes perfomance report:\n",
      "\n",
      "               precision    recall  f1-score   support\n",
      "\n",
      "         afr       1.00      1.00      1.00       596\n",
      "         eng       0.99      1.00      1.00       595\n",
      "         nbl       1.00      1.00      1.00       594\n",
      "         nso       1.00      1.00      1.00       581\n",
      "         sot       1.00      1.00      1.00       600\n",
      "         ssw       1.00      1.00      1.00       601\n",
      "         tsn       1.00      1.00      1.00       609\n",
      "         tso       1.00      1.00      1.00       606\n",
      "         ven       1.00      1.00      1.00       614\n",
      "         xho       1.00      1.00      1.00       606\n",
      "         zul       1.00      0.99      0.99       598\n",
      "\n",
      "    accuracy                           1.00      6600\n",
      "   macro avg       1.00      1.00      1.00      6600\n",
      "weighted avg       1.00      1.00      1.00      6600\n",
      "\n"
     ]
    }
   ],
   "source": [
    "print(\"\\n\\nMiltinomial Naive Bayes perfomance report:\\n\\n\", classification_report(y_test_up, y_pred4))"
   ]
  },
  {
   "cell_type": "markdown",
   "id": "78b80fb1",
   "metadata": {},
   "source": [
    "### Models Comparison"
   ]
  },
  {
   "cell_type": "code",
   "execution_count": 45,
   "id": "07750e6b",
   "metadata": {},
   "outputs": [
    {
     "data": {
      "image/png": "[encoded data removed]",
      "text/plain": [
       "<Figure size 1000x600 with 1 Axes>"
      ]
     },
     "metadata": {},
     "output_type": "display_data"
    }
   ],
   "source": [
    "# Assuming X_train_up_vect, y_train_up, X_test_up_vect, y_test_up are defined\n",
    "\n",
    "# Train Logistic Regression model\n",
    "lr = LogisticRegression(multi_class='ovr')\n",
    "lr.fit(X_train_up_vect, y_train_up)\n",
    "y_pred_lr = lr.predict(X_test_up_vect)\n",
    "accuracy_lr = accuracy_score(y_test_up, y_pred_lr)\n",
    "\n",
    "# Train Support Vector Classifier (SVC) model\n",
    "svc = SVC(kernel='rbf')\n",
    "svc.fit(X_train_up_vect, y_train_up)\n",
    "y_pred_svc = svc.predict(X_test_up_vect)\n",
    "accuracy_svc = accuracy_score(y_test_up, y_pred_svc)\n",
    "\n",
    "# Train Random Forest Classifier model\n",
    "rf = RandomForestClassifier()\n",
    "rf.fit(X_train_up_vect, y_train_up)\n",
    "y_pred_rf = rf.predict(X_test_up_vect)\n",
    "accuracy_rf = accuracy_score(y_test_up, y_pred_rf)\n",
    "\n",
    "# Train Multinomial Naive Bayes model\n",
    "MNBmodel = MultinomialNB()\n",
    "MNBmodel.fit(X_train_up_vect, y_train_up)\n",
    "y_pred_mnb = MNBmodel.predict(X_test_up_vect)\n",
    "accuracy_mnb = accuracy_score(y_test_up, y_pred_mnb)\n",
    "\n",
    "# Store accuracy scores in a list\n",
    "accuracy_scores = [accuracy_lr, accuracy_svc, accuracy_rf, accuracy_mnb]\n",
    "models = ['Logistic Regression', 'SVC', 'Random Forest', 'Multinomial Naive Bayes']\n",
    "\n",
    "# Plotting the bar graph\n",
    "plt.figure(figsize=(10, 6))\n",
    "plt.bar(models, accuracy_scores, color='skyblue')\n",
    "plt.xlabel('Models')\n",
    "plt.ylabel('Accuracy Score')\n",
    "plt.title('Comparison of Model Accuracy Scores')\n",
    "plt.ylim(0, 1)  # Set y-axis limit between 0 and 1 for accuracy scores\n",
    "plt.xticks(rotation=45)  # Rotate x-axis labels for better readability\n",
    "plt.tight_layout()\n",
    "plt.show()"
   ]
  },
  {
   "cell_type": "markdown",
   "id": "008a52f0",
   "metadata": {},
   "source": [
    "<a id=\"seven\"></a>\n",
    "## 8. Cleaning Test Data\n",
    "<a class=\"anchor\" id=\"1.1\"></a>\n",
    "<a href=#cont>Back to Table of Contents</a>\n",
    "\n",
    "---\n",
    "\n",
    "For the competition submission the chosen model for deployment, the data cleaning steps will be repeated on the test data before completing any submissions."
   ]
  },
  {
   "cell_type": "code",
   "execution_count": 46,
   "id": "c4784ac9",
   "metadata": {},
   "outputs": [],
   "source": [
    "def language_cleaner(language):\n",
    "    \n",
    "    \"\"\"\n",
    "    This function is necessary to remove punctuation, hashtags, \n",
    "    numbers and any extra white space from tweets after converting \n",
    "    everything to lowercase letters.\n",
    "    \n",
    "    \"\"\"\n",
    "    # Convert everything to lowercase\n",
    "    language = language.lower() \n",
    "    \n",
    "    # Remove punctuation\n",
    "    language = re.sub(r\"[,.;':@#?!\\&/$]+\\ *\", ' ', language)\n",
    "    \n",
    "    # Remove hashtags\n",
    "    language = re.sub(r'#\\w*', '', language)    \n",
    "    \n",
    "    # Remove numbers\n",
    "    language = re.sub(r'\\d+', '', language)  \n",
    "    \n",
    "    # Remove whitespace in front of tweet\n",
    "    language = language.lstrip(' ')   \n",
    "    \n",
    "    # Remove extra whitespace\n",
    "    language = re.sub(r'\\s\\s+', ' ', language)\n",
    "                          \n",
    "    \n",
    "    return language"
   ]
  },
  {
   "cell_type": "code",
   "execution_count": 47,
   "id": "f712420c",
   "metadata": {},
   "outputs": [
    {
     "data": {
      "text/html": [
       "<div>\n",
       "<style scoped>\n",
       "    .dataframe tbody tr th:only-of-type {\n",
       "        vertical-align: middle;\n",
       "    }\n",
       "\n",
       "    .dataframe tbody tr th {\n",
       "        vertical-align: top;\n",
       "    }\n",
       "\n",
       "    .dataframe thead th {\n",
       "        text-align: right;\n",
       "    }\n",
       "</style>\n",
       "<table border=\"1\" class=\"dataframe\">\n",
       "  <thead>\n",
       "    <tr style=\"text-align: right;\">\n",
       "      <th></th>\n",
       "      <th>index</th>\n",
       "      <th>text</th>\n",
       "    </tr>\n",
       "  </thead>\n",
       "  <tbody>\n",
       "    <tr>\n",
       "      <th>0</th>\n",
       "      <td>1</td>\n",
       "      <td>mmasepala fa maemo a a kgethegileng a letlelel...</td>\n",
       "    </tr>\n",
       "    <tr>\n",
       "      <th>1</th>\n",
       "      <td>2</td>\n",
       "      <td>uzakwaziswa ngokufaneleko nakungafuneka eminye...</td>\n",
       "    </tr>\n",
       "    <tr>\n",
       "      <th>2</th>\n",
       "      <td>3</td>\n",
       "      <td>tshivhumbeo tshi fana na ngano dza vhathu</td>\n",
       "    </tr>\n",
       "    <tr>\n",
       "      <th>3</th>\n",
       "      <td>4</td>\n",
       "      <td>kube inja nelikati betingevakala kutsi titsini...</td>\n",
       "    </tr>\n",
       "    <tr>\n",
       "      <th>4</th>\n",
       "      <td>5</td>\n",
       "      <td>winste op buitelandse valuta</td>\n",
       "    </tr>\n",
       "  </tbody>\n",
       "</table>\n",
       "</div>"
      ],
      "text/plain": [
       "   index                                               text\n",
       "0      1  mmasepala fa maemo a a kgethegileng a letlelel...\n",
       "1      2  uzakwaziswa ngokufaneleko nakungafuneka eminye...\n",
       "2      3         tshivhumbeo tshi fana na ngano dza vhathu \n",
       "3      4  kube inja nelikati betingevakala kutsi titsini...\n",
       "4      5                      winste op buitelandse valuta "
      ]
     },
     "execution_count": 47,
     "metadata": {},
     "output_type": "execute_result"
    }
   ],
   "source": [
    "dft['text'] = dft['text'].apply(language_cleaner)\n",
    "dft.head()"
   ]
  },
  {
   "cell_type": "code",
   "execution_count": 48,
   "id": "48b0acfb",
   "metadata": {},
   "outputs": [],
   "source": [
    "#removing the uknown charecters from words\n",
    "\n",
    "pattern_url = r'[^A-Za-z ]'\n",
    "subs_url = r''\n",
    "dft['text'] = dft['text'].replace(to_replace = pattern_url, value = subs_url, regex = True)"
   ]
  },
  {
   "cell_type": "code",
   "execution_count": 49,
   "id": "785c9f0c",
   "metadata": {},
   "outputs": [],
   "source": [
    "#Defining the list of stopword wished to be removed. \n",
    "\n",
    "stopwordlist = ['a', 'about', 'above', 'after', 'again', 'ain', 'all', 'am', 'an',\n",
    "             'and','any','are', 'as', 'at', 'be', 'because', 'been', 'before',\n",
    "             'being', 'below', 'between','both', 'but', 'by', 'can', 'd', 'did',\n",
    "             'does', 'doesn', 'doing', 'down', 'during', 'each','few', 'for', 'from',\n",
    "             'further', 'had', 'has', 'have', 'having', 'he', 'her', 'here',\n",
    "             'hers', 'herself', 'him', 'himself', 'his', 'how', 'i', 'if', 'in',\n",
    "             'into','is', 'it', 'its', 'itself', 'just', 'll', 'm', 'ma',\n",
    "             'me', 'more', 'most','my', 'myself', 'now', 'o', 'of', 'on', 'once',\n",
    "             'only', 'or', 'other', 'our', 'ours','ourselves', 'out', 'own', 're',\n",
    "             's', 'shan', \"shan't\", 'she', \"shes\", 'should', 'shouldve','so', 'some', 'such',\n",
    "             't', 'than', 'that', 'thatll', 'the', 'their', 'theirs', 'them',\n",
    "             'themselves', 'then', 'there', 'these', 'they', 'this', 'those',\n",
    "             'through', 'to', 'too','under', 'until', 'up', 've', 'very', 'wa', 'was',\n",
    "             'we', 'were', 'what', 'when', 'where','which','while', 'who', 'whom',\n",
    "             'why', 'with', 'won', 'y', 'you', 'youd','youll', 'youre',\n",
    "             'you', 've', 'your', 'yours', 'yourself', 'yourselves']\n",
    "\n",
    "STOPWORDS = set(stopwordlist)\n",
    "def cleaning_stopwords(text):\n",
    "    return \" \".join([word for word in str(text).split() if word not in STOPWORDS])"
   ]
  },
  {
   "cell_type": "code",
   "execution_count": 50,
   "id": "df175235",
   "metadata": {},
   "outputs": [
    {
     "data": {
      "text/html": [
       "<div>\n",
       "<style scoped>\n",
       "    .dataframe tbody tr th:only-of-type {\n",
       "        vertical-align: middle;\n",
       "    }\n",
       "\n",
       "    .dataframe tbody tr th {\n",
       "        vertical-align: top;\n",
       "    }\n",
       "\n",
       "    .dataframe thead th {\n",
       "        text-align: right;\n",
       "    }\n",
       "</style>\n",
       "<table border=\"1\" class=\"dataframe\">\n",
       "  <thead>\n",
       "    <tr style=\"text-align: right;\">\n",
       "      <th></th>\n",
       "      <th>text</th>\n",
       "    </tr>\n",
       "  </thead>\n",
       "  <tbody>\n",
       "    <tr>\n",
       "      <th>0</th>\n",
       "      <td>mmasepala fa maemo kgethegileng letlelela kgat...</td>\n",
       "    </tr>\n",
       "    <tr>\n",
       "      <th>1</th>\n",
       "      <td>uzakwaziswa ngokufaneleko nakungafuneka eminye...</td>\n",
       "    </tr>\n",
       "    <tr>\n",
       "      <th>2</th>\n",
       "      <td>tshivhumbeo tshi fana na ngano dza vhathu</td>\n",
       "    </tr>\n",
       "    <tr>\n",
       "      <th>3</th>\n",
       "      <td>kube inja nelikati betingevakala kutsi titsini...</td>\n",
       "    </tr>\n",
       "    <tr>\n",
       "      <th>4</th>\n",
       "      <td>winste op buitelandse valuta</td>\n",
       "    </tr>\n",
       "  </tbody>\n",
       "</table>\n",
       "</div>"
      ],
      "text/plain": [
       "                                                text\n",
       "0  mmasepala fa maemo kgethegileng letlelela kgat...\n",
       "1  uzakwaziswa ngokufaneleko nakungafuneka eminye...\n",
       "2          tshivhumbeo tshi fana na ngano dza vhathu\n",
       "3  kube inja nelikati betingevakala kutsi titsini...\n",
       "4                       winste op buitelandse valuta"
      ]
     },
     "execution_count": 50,
     "metadata": {},
     "output_type": "execute_result"
    }
   ],
   "source": [
    "dft['text'] = dft['text'].apply(lambda text: cleaning_stopwords(text))\n",
    "dft[['text']].head()"
   ]
  },
  {
   "cell_type": "code",
   "execution_count": 51,
   "id": "7f6e1b9e",
   "metadata": {},
   "outputs": [],
   "source": [
    "#Creating tokenised column\n",
    "tokeniser = TreebankWordTokenizer()\n",
    "\n",
    "def df_tokenize(words, tokenizer):\n",
    "    return [tokenizer.tokenize(word) for word in words]"
   ]
  },
  {
   "cell_type": "code",
   "execution_count": 52,
   "id": "09b08506",
   "metadata": {},
   "outputs": [
    {
     "data": {
      "text/html": [
       "<div>\n",
       "<style scoped>\n",
       "    .dataframe tbody tr th:only-of-type {\n",
       "        vertical-align: middle;\n",
       "    }\n",
       "\n",
       "    .dataframe tbody tr th {\n",
       "        vertical-align: top;\n",
       "    }\n",
       "\n",
       "    .dataframe thead th {\n",
       "        text-align: right;\n",
       "    }\n",
       "</style>\n",
       "<table border=\"1\" class=\"dataframe\">\n",
       "  <thead>\n",
       "    <tr style=\"text-align: right;\">\n",
       "      <th></th>\n",
       "      <th>index</th>\n",
       "      <th>text</th>\n",
       "    </tr>\n",
       "  </thead>\n",
       "  <tbody>\n",
       "    <tr>\n",
       "      <th>0</th>\n",
       "      <td>1</td>\n",
       "      <td>mmasepala fa maemo kgethegileng letlelela kgat...</td>\n",
       "    </tr>\n",
       "    <tr>\n",
       "      <th>1</th>\n",
       "      <td>2</td>\n",
       "      <td>uzakwaziswa ngokufaneleko nakungafuneka eminye...</td>\n",
       "    </tr>\n",
       "    <tr>\n",
       "      <th>2</th>\n",
       "      <td>3</td>\n",
       "      <td>tshivhumbeo tshi fana na ngano dza vhathu</td>\n",
       "    </tr>\n",
       "    <tr>\n",
       "      <th>3</th>\n",
       "      <td>4</td>\n",
       "      <td>kube inja nelikati betingevakala kutsi titsini...</td>\n",
       "    </tr>\n",
       "    <tr>\n",
       "      <th>4</th>\n",
       "      <td>5</td>\n",
       "      <td>winste op buitelandse valuta</td>\n",
       "    </tr>\n",
       "  </tbody>\n",
       "</table>\n",
       "</div>"
      ],
      "text/plain": [
       "   index                                               text\n",
       "0      1  mmasepala fa maemo kgethegileng letlelela kgat...\n",
       "1      2  uzakwaziswa ngokufaneleko nakungafuneka eminye...\n",
       "2      3          tshivhumbeo tshi fana na ngano dza vhathu\n",
       "3      4  kube inja nelikati betingevakala kutsi titsini...\n",
       "4      5                       winste op buitelandse valuta"
      ]
     },
     "execution_count": 52,
     "metadata": {},
     "output_type": "execute_result"
    }
   ],
   "source": [
    "dft.head()"
   ]
  },
  {
   "cell_type": "code",
   "execution_count": 53,
   "id": "c27c7af3",
   "metadata": {},
   "outputs": [],
   "source": [
    "#lemmatizer\n",
    "lemmatizer = WordNetLemmatizer()\n",
    "\n",
    "def df_lemma(words, lemmatizer):\n",
    "    return [lemmatizer.lemmatize(word) for word in words]"
   ]
  },
  {
   "cell_type": "code",
   "execution_count": 54,
   "id": "1f6986d6",
   "metadata": {},
   "outputs": [
    {
     "data": {
      "text/html": [
       "<div>\n",
       "<style scoped>\n",
       "    .dataframe tbody tr th:only-of-type {\n",
       "        vertical-align: middle;\n",
       "    }\n",
       "\n",
       "    .dataframe tbody tr th {\n",
       "        vertical-align: top;\n",
       "    }\n",
       "\n",
       "    .dataframe thead th {\n",
       "        text-align: right;\n",
       "    }\n",
       "</style>\n",
       "<table border=\"1\" class=\"dataframe\">\n",
       "  <thead>\n",
       "    <tr style=\"text-align: right;\">\n",
       "      <th></th>\n",
       "      <th>index</th>\n",
       "      <th>text</th>\n",
       "    </tr>\n",
       "  </thead>\n",
       "  <tbody>\n",
       "    <tr>\n",
       "      <th>0</th>\n",
       "      <td>1</td>\n",
       "      <td>[m, m, a, s, e, p, a, l, a,  , f, a,  , m, a, ...</td>\n",
       "    </tr>\n",
       "    <tr>\n",
       "      <th>1</th>\n",
       "      <td>2</td>\n",
       "      <td>[u, z, a, k, w, a, z, i, s, w, a,  , n, g, o, ...</td>\n",
       "    </tr>\n",
       "    <tr>\n",
       "      <th>2</th>\n",
       "      <td>3</td>\n",
       "      <td>[t, s, h, i, v, h, u, m, b, e, o,  , t, s, h, ...</td>\n",
       "    </tr>\n",
       "    <tr>\n",
       "      <th>3</th>\n",
       "      <td>4</td>\n",
       "      <td>[k, u, b, e,  , i, n, j, a,  , n, e, l, i, k, ...</td>\n",
       "    </tr>\n",
       "    <tr>\n",
       "      <th>4</th>\n",
       "      <td>5</td>\n",
       "      <td>[w, i, n, s, t, e,  , o, p,  , b, u, i, t, e, ...</td>\n",
       "    </tr>\n",
       "  </tbody>\n",
       "</table>\n",
       "</div>"
      ],
      "text/plain": [
       "   index                                               text\n",
       "0      1  [m, m, a, s, e, p, a, l, a,  , f, a,  , m, a, ...\n",
       "1      2  [u, z, a, k, w, a, z, i, s, w, a,  , n, g, o, ...\n",
       "2      3  [t, s, h, i, v, h, u, m, b, e, o,  , t, s, h, ...\n",
       "3      4  [k, u, b, e,  , i, n, j, a,  , n, e, l, i, k, ...\n",
       "4      5  [w, i, n, s, t, e,  , o, p,  , b, u, i, t, e, ..."
      ]
     },
     "execution_count": 54,
     "metadata": {},
     "output_type": "execute_result"
    }
   ],
   "source": [
    "dft['text'] = dft['text'].apply(df_lemma, args=(lemmatizer, ))\n",
    "dft.head()"
   ]
  },
  {
   "cell_type": "code",
   "execution_count": 55,
   "id": "d9669f1c",
   "metadata": {},
   "outputs": [],
   "source": [
    "dft['text'] = [' '.join(map(str,l)) for l in dft['text']]"
   ]
  },
  {
   "cell_type": "code",
   "execution_count": 56,
   "id": "c606d606",
   "metadata": {},
   "outputs": [
    {
     "name": "stdout",
     "output_type": "stream",
     "text": [
      "index    0\n",
      "text     0\n",
      "dtype: int64\n"
     ]
    }
   ],
   "source": [
    "null_values = dft.isnull().sum()\n",
    "print(null_values)"
   ]
  },
  {
   "cell_type": "code",
   "execution_count": 57,
   "id": "1c12f78c",
   "metadata": {},
   "outputs": [
    {
     "name": "stdout",
     "output_type": "stream",
     "text": [
      "Number of empty values in 'sentiment' column: 0\n"
     ]
    }
   ],
   "source": [
    "# Count the number of empty values in the 'sentiment' column\n",
    "empty_values_count = dft['text'].isna().sum()\n",
    "\n",
    "print(\"Number of empty values in 'sentiment' column:\", empty_values_count)"
   ]
  },
  {
   "cell_type": "code",
   "execution_count": 58,
   "id": "6fb2ea25",
   "metadata": {},
   "outputs": [],
   "source": [
    "# Traing the model with the entire data\n",
    "X = df_train['text'] # Features\n",
    "y = df_train['lang_id']"
   ]
  },
  {
   "cell_type": "code",
   "execution_count": 59,
   "id": "f6f4cd51",
   "metadata": {},
   "outputs": [],
   "source": [
    "X_testf = dft['text']"
   ]
  },
  {
   "cell_type": "code",
   "execution_count": null,
   "id": "7e7e89cf",
   "metadata": {},
   "outputs": [],
   "source": [
    "# extracting features\n",
    "vectorizer2 = TfidfVectorizer(ngram_range = (1,3))\n",
    "V_train_Xf = vectorizer2.fit_transform(Xf)\n",
    "V_test_Xf = vectorizer2.transform(X_testf)\n",
    "\n",
    "# Import the scaler module\n",
    "from sklearn import preprocessing\n",
    "scaler = preprocessing.MaxAbsScaler()\n",
    "\n",
    "# Scale data\n",
    "X_Train_f = scaler.fit_transform(V_train_Xf)\n",
    "X_Test_f = scaler.transform(V_test_Xf)"
   ]
  },
  {
   "cell_type": "code",
   "execution_count": null,
   "id": "186fdaa6",
   "metadata": {},
   "outputs": [],
   "source": [
    "V_test_Xf.shape"
   ]
  },
  {
   "cell_type": "code",
   "execution_count": null,
   "id": "b4241676",
   "metadata": {},
   "outputs": [],
   "source": [
    "svm_model_linear_f = SVC(kernel='rbf').fit(V_train_Xf,yf)\n",
    "final_preds = svm_model_linear_f.predict(V_test_Xf)"
   ]
  },
  {
   "cell_type": "code",
   "execution_count": null,
   "id": "7f69c441",
   "metadata": {},
   "outputs": [],
   "source": []
  }
 ],
 "metadata": {
  "kernelspec": {
   "display_name": "Python 3 (ipykernel)",
   "language": "python",
   "name": "python3"
  },
  "language_info": {
   "codemirror_mode": {
    "name": "ipython",
    "version": 3
   },
   "file_extension": ".py",
   "mimetype": "text/x-python",
   "name": "python",
   "nbconvert_exporter": "python",
   "pygments_lexer": "ipython3",
   "version": "3.11.3"
  }
 },
 "nbformat": 4,
 "nbformat_minor": 5
}
